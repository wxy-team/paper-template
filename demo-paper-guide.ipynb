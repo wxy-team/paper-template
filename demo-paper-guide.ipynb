{
 "cells": [
  {
   "cell_type": "markdown",
   "metadata": {},
   "source": [
    "# Guideline for Paper Writing of \"demo paper\""
   ]
  },
  {
   "cell_type": "markdown",
   "metadata": {},
   "source": [
    "## Title"
   ]
  },
  {
   "cell_type": "markdown",
   "metadata": {},
   "source": [
    "Developing a title in four steps:\n",
    "1. Describe your paper in two or three sentences.\n",
    "2. Precis these sentences: remove the unnecessary occurrence of  ''as'' and ''the'' as well as any references to the results.\n",
    "3. Now write a draft title.\n",
    "4. Review this. Perhaps try the technique of ''a title in two parts'', for example, giving the main subject and type of the study. For example, ''Improveing the repeat prescribing process in a busy general practice: a study using continuous quality improvement methods.''\n",
    "\n",
    "Then check:\n",
    "- Is it accurate?\n",
    "- Is it in any way misleading?\n",
    "- Does it contain essential keywords?\n",
    "- Is it interesting?"
   ]
  },
  {
   "cell_type": "markdown",
   "metadata": {},
   "source": [
    "**Paper title** :\n",
    "A template to guide you work on a research paper"
   ]
  },
  {
   "cell_type": "markdown",
   "metadata": {},
   "source": [
    "## Abstract"
   ]
  },
  {
   "cell_type": "markdown",
   "metadata": {},
   "source": [
    "Advices:\n",
    "1. Complete the paper by adding abstract in the last. Or start to write the paper by preparing the abstract. This may be the most difficulty part of the paper to get right, but doing this first will help you to clarify your messages and make writing the rest of paper easier.\n",
    "2. Check following:\n",
    "    - Are abstract headings appropriate for the type of research?\n",
    "    - Are they those required for the journal to which you are submitting: for example, background or context, objectives or aims, methods or design, results or outcome, and conclusions or discussion?\n",
    "3. Check the maximum number of words.\n",
    "4. Check whether the abstract makes sense and that you are getting your message across. Ask a colleague who is not involved in the research to read it. Do they understand your message?\n",
    "5. Check for consistency. The abstract should reflect the paper and describe your message succinctly and accurately. As soon as the paper is written, compare the abstract with the paper. Do the objectives described in the abstract match those in the paper? New words that change the emphasis can appear in the process of pruning e.g. appropriateness is not the same as suitability or usability.\n"
   ]
  },
  {
   "cell_type": "markdown",
   "metadata": {},
   "source": [
    "## Literature Review"
   ]
  },
  {
   "cell_type": "markdown",
   "metadata": {},
   "source": [
    "### Reference Search"
   ]
  },
  {
   "cell_type": "markdown",
   "metadata": {},
   "source": [
    "#### Keywords search\n",
    "\n",
    "*Search the google scholar and IEEE by keywords*\n",
    "- KEYWORD1\n",
    "- KEYWORD2\n",
    "- KEYWORD3"
   ]
  },
  {
   "cell_type": "markdown",
   "metadata": {},
   "source": [
    "#### Important conference/journal search\n",
    "\n",
    "*Browse the contents of lastest 3 years papers from the important confenrences and journals.*\n"
   ]
  },
  {
   "cell_type": "markdown",
   "metadata": {},
   "source": [
    "#### Key authors search\n",
    "*Identify the key authors in this research filed and search for theris lastest works.*\n",
    "- AUTHOR1\n",
    "- AUTHOR2\n",
    "- AUTHOR3"
   ]
  },
  {
   "cell_type": "markdown",
   "metadata": {},
   "source": [
    "### Critique"
   ]
  },
  {
   "cell_type": "markdown",
   "metadata": {},
   "source": [
    "*Find representative papers. Comment on what they do and why they are imperfect.*\n",
    "\n",
    "For exmaple,\n",
    "1. Paper 1 proposed some model. It can handle XXX. ... However, its model could be improved.\n",
    "2. Paper 2 proposed some method. It can handle XXX ... However, its efficiency could be futhure improved."
   ]
  },
  {
   "cell_type": "markdown",
   "metadata": {},
   "source": [
    "### Summary"
   ]
  },
  {
   "cell_type": "markdown",
   "metadata": {},
   "source": [
    "#### Review Statistics"
   ]
  },
  {
   "cell_type": "markdown",
   "metadata": {},
   "source": [
    "*List the table of reviewd papers. Describe the title, author, highlight, critique for the paper.*"
   ]
  },
  {
   "cell_type": "markdown",
   "metadata": {},
   "source": [
    "#### Conclusion"
   ]
  },
  {
   "cell_type": "markdown",
   "metadata": {},
   "source": [
    "*Summary imperfections of previous works.*"
   ]
  },
  {
   "cell_type": "markdown",
   "metadata": {},
   "source": [
    "#### Future Work"
   ]
  },
  {
   "cell_type": "markdown",
   "metadata": {},
   "source": [
    "*Outlook how to improve the previous works and recap the contributions of this work.*"
   ]
  },
  {
   "cell_type": "markdown",
   "metadata": {},
   "source": [
    "## Introduction"
   ]
  },
  {
   "cell_type": "markdown",
   "metadata": {},
   "source": [
    "*The purpose of the introduction is to answer the question \"Why is the research topic important?\"*\n",
    "\n",
    "*The guideline to thinking about the question is as following:*"
   ]
  },
  {
   "cell_type": "markdown",
   "metadata": {},
   "source": [
    "### Motivation"
   ]
  },
  {
   "cell_type": "markdown",
   "metadata": {},
   "source": [
    "#### Motivation from directly practice\n",
    "This motivation means the problems you found in your DIRECT practice. Not something you heard of from academic communication or you read from academic paper."
   ]
  },
  {
   "cell_type": "markdown",
   "metadata": {},
   "source": [
    "For example,\n",
    "\n",
    "Research of XXX is important because :\n",
    "1. Some practical problems occurs frequently and cause huge damage.\n",
    "2. Better method to handle XXX could improve the productivity greately."
   ]
  },
  {
   "cell_type": "markdown",
   "metadata": {},
   "source": [
    "#### Motivation for improvement"
   ]
  },
  {
   "cell_type": "markdown",
   "metadata": {},
   "source": [
    "##### Review/Critique of previous studies"
   ]
  },
  {
   "cell_type": "markdown",
   "metadata": {},
   "source": [
    "For example, \n",
    "1. In some previous works, only XXX is condisdered.\n",
    "2. In some previous works, the accuracy is to be improved.\n",
    "3. In some previous works, the efficiency is to be improved."
   ]
  },
  {
   "cell_type": "markdown",
   "metadata": {},
   "source": [
    "##### What does your work add? (Contributions)"
   ]
  },
  {
   "cell_type": "markdown",
   "metadata": {},
   "source": [
    "For example,\n",
    "1. In this work, XXX model/method is propsed for YYY benefits.\n",
    "2. A new algorithm is propsed to speedup the analysis."
   ]
  },
  {
   "cell_type": "markdown",
   "metadata": {},
   "source": [
    "##### Why does your work add importantly?"
   ]
  },
  {
   "cell_type": "markdown",
   "metadata": {},
   "source": [
    "For exmpale\n",
    "1. Compared to previous model, the proposed model is more accurate.\n",
    "2. Compared to previous algorithm XXX, the proposed method is 100X faster."
   ]
  },
  {
   "cell_type": "markdown",
   "metadata": {},
   "source": [
    "### Summary of your Introduction"
   ]
  },
  {
   "cell_type": "markdown",
   "metadata": {},
   "source": [
    "*Recap the contributions and state the orgonization of paper.*"
   ]
  },
  {
   "cell_type": "markdown",
   "metadata": {},
   "source": [
    "## Methods"
   ]
  },
  {
   "cell_type": "markdown",
   "metadata": {},
   "source": [
    "### Problem Formulation"
   ]
  },
  {
   "cell_type": "markdown",
   "metadata": {},
   "source": [
    "1. Describe the model and assumptions.\n",
    "2. Formulate your model.\n",
    "3. Justify the model and formulation.\n",
    "\n",
    "For example,\n",
    "1. The model could be formulated as a linear system equations.\n",
    "2. The problem could be described as a optimization problems."
   ]
  },
  {
   "cell_type": "markdown",
   "metadata": {},
   "source": [
    "### Method"
   ]
  },
  {
   "cell_type": "markdown",
   "metadata": {},
   "source": [
    "*Describe how to solve the problem.*\n"
   ]
  },
  {
   "cell_type": "markdown",
   "metadata": {},
   "source": [
    "## Experimental Study Design"
   ]
  },
  {
   "cell_type": "markdown",
   "metadata": {},
   "source": [
    "### Models and Assumptions : How to set up experimental study?"
   ]
  },
  {
   "cell_type": "markdown",
   "metadata": {},
   "source": [
    "#### Models\n",
    "\n",
    "*Describe the models/testcases used in experiments*\n",
    "\n",
    "For exmaple,\n",
    "* A tree sturcture is used to test the accuracy.\n",
    "* A large network from practical applications is used to test efficiency."
   ]
  },
  {
   "cell_type": "markdown",
   "metadata": {},
   "source": [
    "#### Assumptions\n",
    "\n",
    "*What preconditions are assumed in your study?*\n",
    "\n",
    "For example,\n",
    "* we do not consider XXX in our model.\n",
    "* we ignore the error of XXX in our experiments."
   ]
  },
  {
   "cell_type": "markdown",
   "metadata": {},
   "source": [
    "#### Justify your models and assumptions."
   ]
  },
  {
   "cell_type": "markdown",
   "metadata": {},
   "source": [
    "For example,\n",
    "1. XXX is ignored because it has little effect.\n",
    "2. XXX is not considered because it rarely happened in practice."
   ]
  },
  {
   "cell_type": "markdown",
   "metadata": {},
   "source": [
    "### Criterias : How to justify experimental study?"
   ]
  },
  {
   "cell_type": "markdown",
   "metadata": {},
   "source": [
    "1. What is to be measured/tested?\n",
    "2. How to take these measurements?\n",
    "3. How trustyworthy the measurements would be?\n",
    "4. How to compare the results against those of previous works."
   ]
  },
  {
   "cell_type": "markdown",
   "metadata": {},
   "source": [
    "### Hypotheses : What is expected from experimental study?"
   ]
  },
  {
   "cell_type": "markdown",
   "metadata": {},
   "source": [
    "#### List the expectations for experiments\n",
    "- Hypotheses1 \n",
    "- Hypotheses2"
   ]
  },
  {
   "cell_type": "markdown",
   "metadata": {},
   "source": [
    "#### Verify the hypotheses by experimental data"
   ]
  },
  {
   "cell_type": "markdown",
   "metadata": {},
   "source": [
    "### Results"
   ]
  },
  {
   "cell_type": "markdown",
   "metadata": {},
   "source": [
    "Describe the experimental results.  Present the data and figures to prove your **contributions**."
   ]
  },
  {
   "cell_type": "markdown",
   "metadata": {},
   "source": [
    "## Conclusion"
   ]
  },
  {
   "cell_type": "markdown",
   "metadata": {},
   "source": [
    "1. Summary the contributions again.\n",
    "2. And look for future works (optional)."
   ]
  }
 ],
 "metadata": {
  "hide_input": false,
  "kernelspec": {
   "display_name": "Python 3",
   "language": "python",
   "name": "python3"
  },
  "language_info": {
   "codemirror_mode": {
    "name": "ipython",
    "version": 3
   },
   "file_extension": ".py",
   "mimetype": "text/x-python",
   "name": "python",
   "nbconvert_exporter": "python",
   "pygments_lexer": "ipython3",
   "version": "3.6.2"
  },
  "latex_envs": {
   "LaTeX_envs_menu_present": true,
   "autocomplete": true,
   "bibliofile": "biblio.bib",
   "cite_by": "apalike",
   "current_citInitial": 1,
   "eqLabelWithNumbers": true,
   "eqNumInitial": 0,
   "hotkeys": {
    "equation": "Ctrl-E",
    "itemize": "Ctrl-I"
   },
   "labels_anchors": false,
   "latex_user_defs": false,
   "report_style_numbering": false,
   "user_envs_cfg": false
  },
  "toc": {
   "nav_menu": {},
   "number_sections": true,
   "sideBar": true,
   "skip_h1_title": true,
   "title_cell": "Table of Contents",
   "title_sidebar": "Contents",
   "toc_cell": false,
   "toc_position": {},
   "toc_section_display": true,
   "toc_window_display": true
  }
 },
 "nbformat": 4,
 "nbformat_minor": 1
}
